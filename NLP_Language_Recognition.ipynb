{
 "cells": [
  {
   "cell_type": "code",
   "execution_count": 1,
   "metadata": {},
   "outputs": [],
   "source": [
    "import pandas as pd\n",
    "import numpy as np\n",
    "import matplotlib.pyplot as plt\n",
    "import seaborn as sns\n",
    "import nltk"
   ]
  },
  {
   "cell_type": "markdown",
   "metadata": {},
   "source": [
    "<h1>Data Discovery</h1>\n",
    "<p>Analise da base de dados</p>"
   ]
  },
  {
   "cell_type": "markdown",
   "metadata": {},
   "source": [
    "**US English Dictionary**"
   ]
  },
  {
   "cell_type": "code",
   "execution_count": 2,
   "metadata": {
    "scrolled": true
   },
   "outputs": [],
   "source": [
    "data_US = pd.read_csv('Backup_Databases\\en-US\\en-US.dic')"
   ]
  },
  {
   "cell_type": "code",
   "execution_count": 3,
   "metadata": {},
   "outputs": [],
   "source": [
    "data_US['Idiom'] = 'English(US)'"
   ]
  },
  {
   "cell_type": "code",
   "execution_count": 4,
   "metadata": {},
   "outputs": [
    {
     "data": {
      "text/html": [
       "<div>\n",
       "<style scoped>\n",
       "    .dataframe tbody tr th:only-of-type {\n",
       "        vertical-align: middle;\n",
       "    }\n",
       "\n",
       "    .dataframe tbody tr th {\n",
       "        vertical-align: top;\n",
       "    }\n",
       "\n",
       "    .dataframe thead th {\n",
       "        text-align: right;\n",
       "    }\n",
       "</style>\n",
       "<table border=\"1\" class=\"dataframe\">\n",
       "  <thead>\n",
       "    <tr style=\"text-align: right;\">\n",
       "      <th></th>\n",
       "      <th>Words</th>\n",
       "      <th>Idiom</th>\n",
       "    </tr>\n",
       "  </thead>\n",
       "  <tbody>\n",
       "    <tr>\n",
       "      <th>0</th>\n",
       "      <td>a</td>\n",
       "      <td>English(US)</td>\n",
       "    </tr>\n",
       "    <tr>\n",
       "      <th>1</th>\n",
       "      <td>A</td>\n",
       "      <td>English(US)</td>\n",
       "    </tr>\n",
       "    <tr>\n",
       "      <th>2</th>\n",
       "      <td>AA</td>\n",
       "      <td>English(US)</td>\n",
       "    </tr>\n",
       "    <tr>\n",
       "      <th>3</th>\n",
       "      <td>AAA</td>\n",
       "      <td>English(US)</td>\n",
       "    </tr>\n",
       "    <tr>\n",
       "      <th>4</th>\n",
       "      <td>Aachen</td>\n",
       "      <td>English(US)</td>\n",
       "    </tr>\n",
       "    <tr>\n",
       "      <th>...</th>\n",
       "      <td>...</td>\n",
       "      <td>...</td>\n",
       "    </tr>\n",
       "    <tr>\n",
       "      <th>152507</th>\n",
       "      <td>zygotes</td>\n",
       "      <td>English(US)</td>\n",
       "    </tr>\n",
       "    <tr>\n",
       "      <th>152508</th>\n",
       "      <td>zygote's</td>\n",
       "      <td>English(US)</td>\n",
       "    </tr>\n",
       "    <tr>\n",
       "      <th>152509</th>\n",
       "      <td>zygotic</td>\n",
       "      <td>English(US)</td>\n",
       "    </tr>\n",
       "    <tr>\n",
       "      <th>152510</th>\n",
       "      <td>zymurgies</td>\n",
       "      <td>English(US)</td>\n",
       "    </tr>\n",
       "    <tr>\n",
       "      <th>152511</th>\n",
       "      <td>zymurgy</td>\n",
       "      <td>English(US)</td>\n",
       "    </tr>\n",
       "  </tbody>\n",
       "</table>\n",
       "<p>152512 rows × 2 columns</p>\n",
       "</div>"
      ],
      "text/plain": [
       "            Words        Idiom\n",
       "0               a  English(US)\n",
       "1               A  English(US)\n",
       "2              AA  English(US)\n",
       "3             AAA  English(US)\n",
       "4          Aachen  English(US)\n",
       "...           ...          ...\n",
       "152507    zygotes  English(US)\n",
       "152508   zygote's  English(US)\n",
       "152509    zygotic  English(US)\n",
       "152510  zymurgies  English(US)\n",
       "152511    zymurgy  English(US)\n",
       "\n",
       "[152512 rows x 2 columns]"
      ]
     },
     "execution_count": 4,
     "metadata": {},
     "output_type": "execute_result"
    }
   ],
   "source": [
    "data_US"
   ]
  },
  {
   "cell_type": "markdown",
   "metadata": {},
   "source": [
    "**Brazillian Portuguese Dictionary**"
   ]
  },
  {
   "cell_type": "code",
   "execution_count": 5,
   "metadata": {},
   "outputs": [],
   "source": [
    "data_BR = pd.read_csv('Backup_Databases\\pt-BR\\pt-BR.dic')"
   ]
  },
  {
   "cell_type": "code",
   "execution_count": 6,
   "metadata": {},
   "outputs": [],
   "source": [
    "data_BR['Idiom'] = 'Portuguese(BR)'"
   ]
  },
  {
   "cell_type": "code",
   "execution_count": 7,
   "metadata": {},
   "outputs": [
    {
     "data": {
      "text/html": [
       "<div>\n",
       "<style scoped>\n",
       "    .dataframe tbody tr th:only-of-type {\n",
       "        vertical-align: middle;\n",
       "    }\n",
       "\n",
       "    .dataframe tbody tr th {\n",
       "        vertical-align: top;\n",
       "    }\n",
       "\n",
       "    .dataframe thead th {\n",
       "        text-align: right;\n",
       "    }\n",
       "</style>\n",
       "<table border=\"1\" class=\"dataframe\">\n",
       "  <thead>\n",
       "    <tr style=\"text-align: right;\">\n",
       "      <th></th>\n",
       "      <th>Words</th>\n",
       "      <th>Idiom</th>\n",
       "    </tr>\n",
       "  </thead>\n",
       "  <tbody>\n",
       "    <tr>\n",
       "      <th>0</th>\n",
       "      <td>a</td>\n",
       "      <td>Portuguese(BR)</td>\n",
       "    </tr>\n",
       "    <tr>\n",
       "      <th>1</th>\n",
       "      <td>á</td>\n",
       "      <td>Portuguese(BR)</td>\n",
       "    </tr>\n",
       "    <tr>\n",
       "      <th>2</th>\n",
       "      <td>à</td>\n",
       "      <td>Portuguese(BR)</td>\n",
       "    </tr>\n",
       "    <tr>\n",
       "      <th>3</th>\n",
       "      <td>À</td>\n",
       "      <td>Portuguese(BR)</td>\n",
       "    </tr>\n",
       "    <tr>\n",
       "      <th>4</th>\n",
       "      <td>Aarão</td>\n",
       "      <td>Portuguese(BR)</td>\n",
       "    </tr>\n",
       "    <tr>\n",
       "      <th>...</th>\n",
       "      <td>...</td>\n",
       "      <td>...</td>\n",
       "    </tr>\n",
       "    <tr>\n",
       "      <th>201220</th>\n",
       "      <td>zunzum</td>\n",
       "      <td>Portuguese(BR)</td>\n",
       "    </tr>\n",
       "    <tr>\n",
       "      <th>201221</th>\n",
       "      <td>zunzuns</td>\n",
       "      <td>Portuguese(BR)</td>\n",
       "    </tr>\n",
       "    <tr>\n",
       "      <th>201222</th>\n",
       "      <td>zurrar</td>\n",
       "      <td>Portuguese(BR)</td>\n",
       "    </tr>\n",
       "    <tr>\n",
       "      <th>201223</th>\n",
       "      <td>zurro</td>\n",
       "      <td>Portuguese(BR)</td>\n",
       "    </tr>\n",
       "    <tr>\n",
       "      <th>201224</th>\n",
       "      <td>zurros</td>\n",
       "      <td>Portuguese(BR)</td>\n",
       "    </tr>\n",
       "  </tbody>\n",
       "</table>\n",
       "<p>201225 rows × 2 columns</p>\n",
       "</div>"
      ],
      "text/plain": [
       "          Words           Idiom\n",
       "0             a  Portuguese(BR)\n",
       "1             á  Portuguese(BR)\n",
       "2             à  Portuguese(BR)\n",
       "3             À  Portuguese(BR)\n",
       "4         Aarão  Portuguese(BR)\n",
       "...         ...             ...\n",
       "201220   zunzum  Portuguese(BR)\n",
       "201221  zunzuns  Portuguese(BR)\n",
       "201222   zurrar  Portuguese(BR)\n",
       "201223    zurro  Portuguese(BR)\n",
       "201224   zurros  Portuguese(BR)\n",
       "\n",
       "[201225 rows x 2 columns]"
      ]
     },
     "execution_count": 7,
     "metadata": {},
     "output_type": "execute_result"
    }
   ],
   "source": [
    "data_BR"
   ]
  },
  {
   "cell_type": "markdown",
   "metadata": {},
   "source": [
    "**Australian English Dictionary**"
   ]
  },
  {
   "cell_type": "code",
   "execution_count": 8,
   "metadata": {},
   "outputs": [],
   "source": [
    "data_AU = pd.read_csv('Backup_Databases\\en-AU\\en-AU.dic')"
   ]
  },
  {
   "cell_type": "code",
   "execution_count": 9,
   "metadata": {},
   "outputs": [],
   "source": [
    "data_AU['Idiom'] = 'Englis(AU)'"
   ]
  },
  {
   "cell_type": "code",
   "execution_count": 10,
   "metadata": {},
   "outputs": [
    {
     "data": {
      "text/html": [
       "<div>\n",
       "<style scoped>\n",
       "    .dataframe tbody tr th:only-of-type {\n",
       "        vertical-align: middle;\n",
       "    }\n",
       "\n",
       "    .dataframe tbody tr th {\n",
       "        vertical-align: top;\n",
       "    }\n",
       "\n",
       "    .dataframe thead th {\n",
       "        text-align: right;\n",
       "    }\n",
       "</style>\n",
       "<table border=\"1\" class=\"dataframe\">\n",
       "  <thead>\n",
       "    <tr style=\"text-align: right;\">\n",
       "      <th></th>\n",
       "      <th>Words</th>\n",
       "      <th>Idiom</th>\n",
       "    </tr>\n",
       "  </thead>\n",
       "  <tbody>\n",
       "    <tr>\n",
       "      <th>0</th>\n",
       "      <td>a</td>\n",
       "      <td>Englis(AU)</td>\n",
       "    </tr>\n",
       "    <tr>\n",
       "      <th>1</th>\n",
       "      <td>AA</td>\n",
       "      <td>Englis(AU)</td>\n",
       "    </tr>\n",
       "    <tr>\n",
       "      <th>2</th>\n",
       "      <td>aardvark</td>\n",
       "      <td>Englis(AU)</td>\n",
       "    </tr>\n",
       "    <tr>\n",
       "      <th>3</th>\n",
       "      <td>aardvarks</td>\n",
       "      <td>Englis(AU)</td>\n",
       "    </tr>\n",
       "    <tr>\n",
       "      <th>4</th>\n",
       "      <td>aardvark's</td>\n",
       "      <td>Englis(AU)</td>\n",
       "    </tr>\n",
       "    <tr>\n",
       "      <th>...</th>\n",
       "      <td>...</td>\n",
       "      <td>...</td>\n",
       "    </tr>\n",
       "    <tr>\n",
       "      <th>119228</th>\n",
       "      <td>zygotes</td>\n",
       "      <td>Englis(AU)</td>\n",
       "    </tr>\n",
       "    <tr>\n",
       "      <th>119229</th>\n",
       "      <td>zygote's</td>\n",
       "      <td>Englis(AU)</td>\n",
       "    </tr>\n",
       "    <tr>\n",
       "      <th>119230</th>\n",
       "      <td>zygotic</td>\n",
       "      <td>Englis(AU)</td>\n",
       "    </tr>\n",
       "    <tr>\n",
       "      <th>119231</th>\n",
       "      <td>zymurgies</td>\n",
       "      <td>Englis(AU)</td>\n",
       "    </tr>\n",
       "    <tr>\n",
       "      <th>119232</th>\n",
       "      <td>zymurgy</td>\n",
       "      <td>Englis(AU)</td>\n",
       "    </tr>\n",
       "  </tbody>\n",
       "</table>\n",
       "<p>119233 rows × 2 columns</p>\n",
       "</div>"
      ],
      "text/plain": [
       "             Words       Idiom\n",
       "0                a  Englis(AU)\n",
       "1               AA  Englis(AU)\n",
       "2         aardvark  Englis(AU)\n",
       "3        aardvarks  Englis(AU)\n",
       "4       aardvark's  Englis(AU)\n",
       "...            ...         ...\n",
       "119228     zygotes  Englis(AU)\n",
       "119229    zygote's  Englis(AU)\n",
       "119230     zygotic  Englis(AU)\n",
       "119231   zymurgies  Englis(AU)\n",
       "119232     zymurgy  Englis(AU)\n",
       "\n",
       "[119233 rows x 2 columns]"
      ]
     },
     "execution_count": 10,
     "metadata": {},
     "output_type": "execute_result"
    }
   ],
   "source": [
    "data_AU"
   ]
  },
  {
   "cell_type": "markdown",
   "metadata": {},
   "source": [
    "**UK English Dictionary**"
   ]
  },
  {
   "cell_type": "code",
   "execution_count": 11,
   "metadata": {},
   "outputs": [],
   "source": [
    "data_UK = pd.read_csv('Backup_Databases\\en-GB\\en-GB.dic')"
   ]
  },
  {
   "cell_type": "code",
   "execution_count": 12,
   "metadata": {},
   "outputs": [],
   "source": [
    "data_UK['Idiom'] = 'English(GB)'"
   ]
  },
  {
   "cell_type": "code",
   "execution_count": 13,
   "metadata": {},
   "outputs": [
    {
     "data": {
      "text/html": [
       "<div>\n",
       "<style scoped>\n",
       "    .dataframe tbody tr th:only-of-type {\n",
       "        vertical-align: middle;\n",
       "    }\n",
       "\n",
       "    .dataframe tbody tr th {\n",
       "        vertical-align: top;\n",
       "    }\n",
       "\n",
       "    .dataframe thead th {\n",
       "        text-align: right;\n",
       "    }\n",
       "</style>\n",
       "<table border=\"1\" class=\"dataframe\">\n",
       "  <thead>\n",
       "    <tr style=\"text-align: right;\">\n",
       "      <th></th>\n",
       "      <th>Words</th>\n",
       "      <th>Idiom</th>\n",
       "    </tr>\n",
       "  </thead>\n",
       "  <tbody>\n",
       "    <tr>\n",
       "      <th>0</th>\n",
       "      <td>a</td>\n",
       "      <td>English(GB)</td>\n",
       "    </tr>\n",
       "    <tr>\n",
       "      <th>1</th>\n",
       "      <td>A</td>\n",
       "      <td>English(GB)</td>\n",
       "    </tr>\n",
       "    <tr>\n",
       "      <th>2</th>\n",
       "      <td>à</td>\n",
       "      <td>English(GB)</td>\n",
       "    </tr>\n",
       "    <tr>\n",
       "      <th>3</th>\n",
       "      <td>AA</td>\n",
       "      <td>English(GB)</td>\n",
       "    </tr>\n",
       "    <tr>\n",
       "      <th>4</th>\n",
       "      <td>AAA</td>\n",
       "      <td>English(GB)</td>\n",
       "    </tr>\n",
       "    <tr>\n",
       "      <th>...</th>\n",
       "      <td>...</td>\n",
       "      <td>...</td>\n",
       "    </tr>\n",
       "    <tr>\n",
       "      <th>126833</th>\n",
       "      <td>zygotes</td>\n",
       "      <td>English(GB)</td>\n",
       "    </tr>\n",
       "    <tr>\n",
       "      <th>126834</th>\n",
       "      <td>zygote's</td>\n",
       "      <td>English(GB)</td>\n",
       "    </tr>\n",
       "    <tr>\n",
       "      <th>126835</th>\n",
       "      <td>zygotic</td>\n",
       "      <td>English(GB)</td>\n",
       "    </tr>\n",
       "    <tr>\n",
       "      <th>126836</th>\n",
       "      <td>zymurgies</td>\n",
       "      <td>English(GB)</td>\n",
       "    </tr>\n",
       "    <tr>\n",
       "      <th>126837</th>\n",
       "      <td>zymurgy</td>\n",
       "      <td>English(GB)</td>\n",
       "    </tr>\n",
       "  </tbody>\n",
       "</table>\n",
       "<p>126838 rows × 2 columns</p>\n",
       "</div>"
      ],
      "text/plain": [
       "            Words        Idiom\n",
       "0               a  English(GB)\n",
       "1               A  English(GB)\n",
       "2               à  English(GB)\n",
       "3              AA  English(GB)\n",
       "4             AAA  English(GB)\n",
       "...           ...          ...\n",
       "126833    zygotes  English(GB)\n",
       "126834   zygote's  English(GB)\n",
       "126835    zygotic  English(GB)\n",
       "126836  zymurgies  English(GB)\n",
       "126837    zymurgy  English(GB)\n",
       "\n",
       "[126838 rows x 2 columns]"
      ]
     },
     "execution_count": 13,
     "metadata": {},
     "output_type": "execute_result"
    }
   ],
   "source": [
    "data_UK"
   ]
  },
  {
   "cell_type": "markdown",
   "metadata": {},
   "source": [
    "**Portuguese Dictionary**"
   ]
  },
  {
   "cell_type": "code",
   "execution_count": 14,
   "metadata": {},
   "outputs": [],
   "source": [
    "data_PT = pd.read_csv(\"Backup_Databases\\pt-PT\\pt-PT.dic\")"
   ]
  },
  {
   "cell_type": "code",
   "execution_count": 15,
   "metadata": {},
   "outputs": [],
   "source": [
    "data_PT['Idiom'] = 'Portuguese(PT)'"
   ]
  },
  {
   "cell_type": "code",
   "execution_count": 16,
   "metadata": {},
   "outputs": [
    {
     "data": {
      "text/html": [
       "<div>\n",
       "<style scoped>\n",
       "    .dataframe tbody tr th:only-of-type {\n",
       "        vertical-align: middle;\n",
       "    }\n",
       "\n",
       "    .dataframe tbody tr th {\n",
       "        vertical-align: top;\n",
       "    }\n",
       "\n",
       "    .dataframe thead th {\n",
       "        text-align: right;\n",
       "    }\n",
       "</style>\n",
       "<table border=\"1\" class=\"dataframe\">\n",
       "  <thead>\n",
       "    <tr style=\"text-align: right;\">\n",
       "      <th></th>\n",
       "      <th>Words</th>\n",
       "      <th>Idiom</th>\n",
       "    </tr>\n",
       "  </thead>\n",
       "  <tbody>\n",
       "    <tr>\n",
       "      <th>0</th>\n",
       "      <td>a</td>\n",
       "      <td>Portuguese(PT)</td>\n",
       "    </tr>\n",
       "    <tr>\n",
       "      <th>1</th>\n",
       "      <td>à</td>\n",
       "      <td>Portuguese(PT)</td>\n",
       "    </tr>\n",
       "    <tr>\n",
       "      <th>2</th>\n",
       "      <td>AAC</td>\n",
       "      <td>Portuguese(PT)</td>\n",
       "    </tr>\n",
       "    <tr>\n",
       "      <th>3</th>\n",
       "      <td>Aachen</td>\n",
       "      <td>Portuguese(PT)</td>\n",
       "    </tr>\n",
       "    <tr>\n",
       "      <th>4</th>\n",
       "      <td>Aalborg</td>\n",
       "      <td>Portuguese(PT)</td>\n",
       "    </tr>\n",
       "    <tr>\n",
       "      <th>...</th>\n",
       "      <td>...</td>\n",
       "      <td>...</td>\n",
       "    </tr>\n",
       "    <tr>\n",
       "      <th>412168</th>\n",
       "      <td>zurzisses</td>\n",
       "      <td>Portuguese(PT)</td>\n",
       "    </tr>\n",
       "    <tr>\n",
       "      <th>412169</th>\n",
       "      <td>zurziste</td>\n",
       "      <td>Portuguese(PT)</td>\n",
       "    </tr>\n",
       "    <tr>\n",
       "      <th>412170</th>\n",
       "      <td>zurzistes</td>\n",
       "      <td>Portuguese(PT)</td>\n",
       "    </tr>\n",
       "    <tr>\n",
       "      <th>412171</th>\n",
       "      <td>zurziu</td>\n",
       "      <td>Portuguese(PT)</td>\n",
       "    </tr>\n",
       "    <tr>\n",
       "      <th>412172</th>\n",
       "      <td>zurzo</td>\n",
       "      <td>Portuguese(PT)</td>\n",
       "    </tr>\n",
       "  </tbody>\n",
       "</table>\n",
       "<p>412173 rows × 2 columns</p>\n",
       "</div>"
      ],
      "text/plain": [
       "            Words           Idiom\n",
       "0               a  Portuguese(PT)\n",
       "1               à  Portuguese(PT)\n",
       "2             AAC  Portuguese(PT)\n",
       "3          Aachen  Portuguese(PT)\n",
       "4         Aalborg  Portuguese(PT)\n",
       "...           ...             ...\n",
       "412168  zurzisses  Portuguese(PT)\n",
       "412169   zurziste  Portuguese(PT)\n",
       "412170  zurzistes  Portuguese(PT)\n",
       "412171     zurziu  Portuguese(PT)\n",
       "412172      zurzo  Portuguese(PT)\n",
       "\n",
       "[412173 rows x 2 columns]"
      ]
     },
     "execution_count": 16,
     "metadata": {},
     "output_type": "execute_result"
    }
   ],
   "source": [
    "data_PT"
   ]
  },
  {
   "cell_type": "markdown",
   "metadata": {},
   "source": [
    "**New Zealand English Dictionary**"
   ]
  },
  {
   "cell_type": "code",
   "execution_count": 17,
   "metadata": {},
   "outputs": [],
   "source": [
    "data_NZ = pd.read_csv(\"Backup_Databases\\en-NZ\\en-NZ.dic\")"
   ]
  },
  {
   "cell_type": "code",
   "execution_count": 18,
   "metadata": {},
   "outputs": [],
   "source": [
    "data_NZ['Idiom'] = 'English(NZ)'"
   ]
  },
  {
   "cell_type": "markdown",
   "metadata": {},
   "source": [
    "**Canadian English Dictionary**"
   ]
  },
  {
   "cell_type": "code",
   "execution_count": 19,
   "metadata": {},
   "outputs": [],
   "source": [
    "data_CA = pd.read_csv(\"Backup_Databases\\en-CA\\en-CA.dic\")"
   ]
  },
  {
   "cell_type": "code",
   "execution_count": 20,
   "metadata": {},
   "outputs": [],
   "source": [
    "data_CA['Idiom'] = 'English(CA)'"
   ]
  },
  {
   "cell_type": "code",
   "execution_count": 21,
   "metadata": {},
   "outputs": [
    {
     "data": {
      "text/html": [
       "<div>\n",
       "<style scoped>\n",
       "    .dataframe tbody tr th:only-of-type {\n",
       "        vertical-align: middle;\n",
       "    }\n",
       "\n",
       "    .dataframe tbody tr th {\n",
       "        vertical-align: top;\n",
       "    }\n",
       "\n",
       "    .dataframe thead th {\n",
       "        text-align: right;\n",
       "    }\n",
       "</style>\n",
       "<table border=\"1\" class=\"dataframe\">\n",
       "  <thead>\n",
       "    <tr style=\"text-align: right;\">\n",
       "      <th></th>\n",
       "      <th>Words</th>\n",
       "      <th>Idiom</th>\n",
       "    </tr>\n",
       "  </thead>\n",
       "  <tbody>\n",
       "    <tr>\n",
       "      <th>0</th>\n",
       "      <td>a</td>\n",
       "      <td>English(CA)</td>\n",
       "    </tr>\n",
       "    <tr>\n",
       "      <th>1</th>\n",
       "      <td>A</td>\n",
       "      <td>English(CA)</td>\n",
       "    </tr>\n",
       "    <tr>\n",
       "      <th>2</th>\n",
       "      <td>AA</td>\n",
       "      <td>English(CA)</td>\n",
       "    </tr>\n",
       "    <tr>\n",
       "      <th>3</th>\n",
       "      <td>AAA</td>\n",
       "      <td>English(CA)</td>\n",
       "    </tr>\n",
       "    <tr>\n",
       "      <th>4</th>\n",
       "      <td>Aachen</td>\n",
       "      <td>English(CA)</td>\n",
       "    </tr>\n",
       "    <tr>\n",
       "      <th>...</th>\n",
       "      <td>...</td>\n",
       "      <td>...</td>\n",
       "    </tr>\n",
       "    <tr>\n",
       "      <th>152618</th>\n",
       "      <td>zygotes</td>\n",
       "      <td>English(CA)</td>\n",
       "    </tr>\n",
       "    <tr>\n",
       "      <th>152619</th>\n",
       "      <td>zygote's</td>\n",
       "      <td>English(CA)</td>\n",
       "    </tr>\n",
       "    <tr>\n",
       "      <th>152620</th>\n",
       "      <td>zygotic</td>\n",
       "      <td>English(CA)</td>\n",
       "    </tr>\n",
       "    <tr>\n",
       "      <th>152621</th>\n",
       "      <td>zymurgies</td>\n",
       "      <td>English(CA)</td>\n",
       "    </tr>\n",
       "    <tr>\n",
       "      <th>152622</th>\n",
       "      <td>zymurgy</td>\n",
       "      <td>English(CA)</td>\n",
       "    </tr>\n",
       "  </tbody>\n",
       "</table>\n",
       "<p>152623 rows × 2 columns</p>\n",
       "</div>"
      ],
      "text/plain": [
       "            Words        Idiom\n",
       "0               a  English(CA)\n",
       "1               A  English(CA)\n",
       "2              AA  English(CA)\n",
       "3             AAA  English(CA)\n",
       "4          Aachen  English(CA)\n",
       "...           ...          ...\n",
       "152618    zygotes  English(CA)\n",
       "152619   zygote's  English(CA)\n",
       "152620    zygotic  English(CA)\n",
       "152621  zymurgies  English(CA)\n",
       "152622    zymurgy  English(CA)\n",
       "\n",
       "[152623 rows x 2 columns]"
      ]
     },
     "execution_count": 21,
     "metadata": {},
     "output_type": "execute_result"
    }
   ],
   "source": [
    "data_CA"
   ]
  },
  {
   "cell_type": "markdown",
   "metadata": {},
   "source": [
    "**Merging Datasets**"
   ]
  },
  {
   "cell_type": "code",
   "execution_count": 22,
   "metadata": {},
   "outputs": [],
   "source": [
    "dataFrames = [data_BR, data_PT, data_UK, data_US, data_AU, data_CA, data_NZ]\n",
    "general_dataset = pd.concat(dataFrames)"
   ]
  },
  {
   "cell_type": "code",
   "execution_count": 23,
   "metadata": {},
   "outputs": [
    {
     "data": {
      "text/html": [
       "<div>\n",
       "<style scoped>\n",
       "    .dataframe tbody tr th:only-of-type {\n",
       "        vertical-align: middle;\n",
       "    }\n",
       "\n",
       "    .dataframe tbody tr th {\n",
       "        vertical-align: top;\n",
       "    }\n",
       "\n",
       "    .dataframe thead th {\n",
       "        text-align: right;\n",
       "    }\n",
       "</style>\n",
       "<table border=\"1\" class=\"dataframe\">\n",
       "  <thead>\n",
       "    <tr style=\"text-align: right;\">\n",
       "      <th></th>\n",
       "      <th>Words</th>\n",
       "      <th>Idiom</th>\n",
       "    </tr>\n",
       "  </thead>\n",
       "  <tbody>\n",
       "    <tr>\n",
       "      <th>0</th>\n",
       "      <td>a</td>\n",
       "      <td>Portuguese(BR)</td>\n",
       "    </tr>\n",
       "    <tr>\n",
       "      <th>1</th>\n",
       "      <td>á</td>\n",
       "      <td>Portuguese(BR)</td>\n",
       "    </tr>\n",
       "    <tr>\n",
       "      <th>2</th>\n",
       "      <td>à</td>\n",
       "      <td>Portuguese(BR)</td>\n",
       "    </tr>\n",
       "    <tr>\n",
       "      <th>3</th>\n",
       "      <td>À</td>\n",
       "      <td>Portuguese(BR)</td>\n",
       "    </tr>\n",
       "    <tr>\n",
       "      <th>4</th>\n",
       "      <td>Aarão</td>\n",
       "      <td>Portuguese(BR)</td>\n",
       "    </tr>\n",
       "    <tr>\n",
       "      <th>...</th>\n",
       "      <td>...</td>\n",
       "      <td>...</td>\n",
       "    </tr>\n",
       "    <tr>\n",
       "      <th>129241</th>\n",
       "      <td>zygotes</td>\n",
       "      <td>English(NZ)</td>\n",
       "    </tr>\n",
       "    <tr>\n",
       "      <th>129242</th>\n",
       "      <td>zygote's</td>\n",
       "      <td>English(NZ)</td>\n",
       "    </tr>\n",
       "    <tr>\n",
       "      <th>129243</th>\n",
       "      <td>zygotic</td>\n",
       "      <td>English(NZ)</td>\n",
       "    </tr>\n",
       "    <tr>\n",
       "      <th>129244</th>\n",
       "      <td>zymurgies</td>\n",
       "      <td>English(NZ)</td>\n",
       "    </tr>\n",
       "    <tr>\n",
       "      <th>129245</th>\n",
       "      <td>zymurgy</td>\n",
       "      <td>English(NZ)</td>\n",
       "    </tr>\n",
       "  </tbody>\n",
       "</table>\n",
       "<p>1293850 rows × 2 columns</p>\n",
       "</div>"
      ],
      "text/plain": [
       "            Words           Idiom\n",
       "0               a  Portuguese(BR)\n",
       "1               á  Portuguese(BR)\n",
       "2               à  Portuguese(BR)\n",
       "3               À  Portuguese(BR)\n",
       "4           Aarão  Portuguese(BR)\n",
       "...           ...             ...\n",
       "129241    zygotes     English(NZ)\n",
       "129242   zygote's     English(NZ)\n",
       "129243    zygotic     English(NZ)\n",
       "129244  zymurgies     English(NZ)\n",
       "129245    zymurgy     English(NZ)\n",
       "\n",
       "[1293850 rows x 2 columns]"
      ]
     },
     "execution_count": 23,
     "metadata": {},
     "output_type": "execute_result"
    }
   ],
   "source": [
    "general_dataset"
   ]
  },
  {
   "cell_type": "markdown",
   "metadata": {},
   "source": [
    "<h1>Data Wrangling or Munging + Data Analysis</h1>\n",
    "<p>Limpeza dos dados, transformações e Analise estatística</p>"
   ]
  },
  {
   "cell_type": "code",
   "execution_count": null,
   "metadata": {},
   "outputs": [],
   "source": []
  },
  {
   "cell_type": "markdown",
   "metadata": {},
   "source": [
    "<h1>Predictive Modeling</h1>\n",
    "<p>Aplicação de metodos probabilísticos e estatísticos de Machine Learning e analise do resultado</p>"
   ]
  },
  {
   "cell_type": "code",
   "execution_count": null,
   "metadata": {},
   "outputs": [],
   "source": []
  },
  {
   "cell_type": "markdown",
   "metadata": {},
   "source": [
    "<h1>Testing Validation</h1>\n",
    "<p>Validando o modelo criado</p>"
   ]
  },
  {
   "cell_type": "code",
   "execution_count": null,
   "metadata": {},
   "outputs": [],
   "source": []
  },
  {
   "cell_type": "markdown",
   "metadata": {},
   "source": [
    "<h1>Deploy</h1>\n",
    "<p>Deploy do modelo</p>"
   ]
  },
  {
   "cell_type": "code",
   "execution_count": null,
   "metadata": {},
   "outputs": [],
   "source": []
  },
  {
   "cell_type": "code",
   "execution_count": 36,
   "metadata": {},
   "outputs": [
    {
     "name": "stdout",
     "output_type": "stream",
     "text": [
      "On branch master\n",
      "Your branch is up to date with 'origin/master'.\n",
      "\n",
      "nothing to commit, working tree clean\n"
     ]
    }
   ],
   "source": [
    "!git checkout -b"
   ]
  },
  {
   "cell_type": "code",
   "execution_count": 37,
   "metadata": {},
   "outputs": [
    {
     "name": "stdout",
     "output_type": "stream",
     "text": [
      "* 573b62b (HEAD -> master, origin/master, origin/HEAD) Test Merge\n",
      "* df2fd90 Initial commit\n"
     ]
    }
   ],
   "source": [
    "!git log --graph --decorate --oneline"
   ]
  },
  {
   "cell_type": "code",
   "execution_count": null,
   "metadata": {},
   "outputs": [],
   "source": []
  }
 ],
 "metadata": {
  "kernelspec": {
   "display_name": "Python 3",
   "language": "python",
   "name": "python3"
  },
  "language_info": {
   "codemirror_mode": {
    "name": "ipython",
    "version": 3
   },
   "file_extension": ".py",
   "mimetype": "text/x-python",
   "name": "python",
   "nbconvert_exporter": "python",
   "pygments_lexer": "ipython3",
   "version": "3.7.6"
  }
 },
 "nbformat": 4,
 "nbformat_minor": 4
}
